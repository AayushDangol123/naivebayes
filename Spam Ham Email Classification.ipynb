{
 "cells": [
  {
   "cell_type": "markdown",
   "metadata": {},
   "source": [
    "# Import dependencies"
   ]
  },
  {
   "cell_type": "code",
   "execution_count": 1,
   "metadata": {},
   "outputs": [],
   "source": [
    "import os\n",
    "import re\n",
    "import math\n",
    "import copy\n",
    "import itertools\n",
    "import collections\n",
    "import matplotlib.pyplot as plt\n",
    "import numpy as np"
   ]
  },
  {
   "cell_type": "markdown",
   "metadata": {},
   "source": [
    "# Read and store dataset functions"
   ]
  },
  {
   "cell_type": "code",
   "execution_count": 2,
   "metadata": {},
   "outputs": [],
   "source": [
    "# Document class to store email instances\n",
    "class Document:\n",
    "    text = \"\"\n",
    "    word_freqs = {}\n",
    "    actual_label = \"\"\n",
    "    predicted_label = \"\"\n",
    "\n",
    "    def __init__(self, text, counter, actual_label):\n",
    "        self.text = text\n",
    "        self.word_freqs = counter\n",
    "        self.actual_label = actual_label\n",
    "\n",
    "    def getText(self):\n",
    "        return self.text\n",
    "\n",
    "    def getWordFreqs(self):\n",
    "        return self.word_freqs\n",
    "\n",
    "    def getActualLabel(self):\n",
    "        return self.actual_label\n",
    "\n",
    "    def getPredictedLabel(self):\n",
    "        return self.predicted_label\n",
    "\n",
    "    def setPredictedLabel(self, guess_label):\n",
    "        self.predicted_label = guess_label\n",
    "\n",
    "# extract words with their frequency in text\n",
    "def bagOfWords(text):\n",
    "    bagsofwords = collections.Counter(re.findall(r'\\w+', text))\n",
    "    return dict(bagsofwords)\n",
    "\n",
    "# Read all text files in the given directory and construct the data set D\n",
    "def makeDataSet(storage_dict, directory, actual_label):\n",
    "    for dir_entry in os.listdir(directory):\n",
    "        dir_entry_path = os.path.join(directory, dir_entry)\n",
    "        if os.path.isfile(dir_entry_path):\n",
    "            with open(dir_entry_path, 'r', encoding=\"ansi\", errors='ignore') as text_file:\n",
    "                text = text_file.read()\n",
    "                storage_dict.update({dir_entry_path: Document(text, bagOfWords(text), actual_label)})\n"
   ]
  },
  {
   "cell_type": "markdown",
   "metadata": {},
   "source": [
    "# Train and Test Multinomial Naive Bayes"
   ]
  },
  {
   "cell_type": "code",
   "execution_count": 33,
   "metadata": {},
   "outputs": [],
   "source": [
    "# Extracts the vocabulary of all the text in a data set\n",
    "def extractVocab(data_set):\n",
    "    all_text = \"\"\n",
    "    v = []\n",
    "    for x in data_set:\n",
    "        all_text += data_set[x].getText()\n",
    "    for y in bagOfWords(all_text):\n",
    "        v.append(y)\n",
    "    return v\n",
    "\n",
    "# Training\n",
    "def trainMNB(training, priors, cond):\n",
    "    v = extractVocab(training)\n",
    "    n = len(training)\n",
    "    for c in classes:\n",
    "        n_c = 0.0\n",
    "        text_c = \"\"\n",
    "        for i in training:\n",
    "            if training[i].getActualLabel() == c:\n",
    "                n_c += 1\n",
    "                text_c += training[i].getText()\n",
    "        priors[c] = float(n_c) / float(n)\n",
    "        token_freqs = bagOfWords(text_c)\n",
    "        # Calculate conditional probabilities for each token and sum using laplace smoothing and log-scale\n",
    "        for t in v:\n",
    "            # known word case\n",
    "            if t in token_freqs:\n",
    "                cond.update({t + \"_\" + c: (float((token_freqs[t] + 1.0)) / float((len(text_c) + len(token_freqs))))})\n",
    "            # unknown word case\n",
    "            else:\n",
    "                cond.update({t + \"_\" + c: (float(1.0) / float((len(text_c) + len(token_freqs))))})\n",
    "\n",
    "\n",
    "# Testing. \n",
    "# Returns classification guess\n",
    "def applyMultinomialNaiveBayes(data_instance, priors, cond):\n",
    "    score = {}\n",
    "    for c in classes:\n",
    "        score[c] = math.log10(float(priors[c]))\n",
    "        for t in data_instance.getWordFreqs():\n",
    "            if (t + \"_\" + c) in cond:\n",
    "                score[c] += float(math.log10(cond[t + \"_\" + c]))\n",
    "    if score[\"spam\"] > score[\"ham\"]:\n",
    "        return \"spam\"\n",
    "    else:\n",
    "        return \"ham\"\n"
   ]
  },
  {
   "cell_type": "markdown",
   "metadata": {},
   "source": [
    "# Plot Confusion Matrix"
   ]
  },
  {
   "cell_type": "code",
   "execution_count": 34,
   "metadata": {},
   "outputs": [],
   "source": [
    "#Evaluation of Model - Confusion Matrix Plot\n",
    "def plot_confusion_matrix(cm, classes,normalize=False,title='Confusion matrix'):\n",
    "   \n",
    "    \"\"\"\n",
    "    This function prints and plots the confusion matrix.\n",
    "    Normalization can be applied by setting `normalize=True`.\n",
    "    \"\"\"\n",
    "    \"\"\"\n",
    "    if normalize:\n",
    "        cm = cm.astype('float') / cm.sum(axis=1)[:, np.newaxis]\n",
    "        print(\"Normalized confusion matrix\")\n",
    "    else:\n",
    "        print('Confusion matrix, without normalization')\n",
    "\n",
    "    print(cm)\n",
    "    \"\"\"\n",
    "    plt.figure()\n",
    "    cmap=plt.cm.Blues\n",
    "    plt.imshow(cm, interpolation='nearest', cmap=cmap)\n",
    "    plt.title(title)\n",
    "    plt.colorbar()\n",
    "    tick_marks = np.arange(len(classes))\n",
    "    plt.xticks(tick_marks, classes, rotation=45)\n",
    "    plt.yticks(tick_marks, classes)\n",
    "\n",
    "    fmt = '.2f' if normalize else 'd'\n",
    "    thresh = cm.max() / 2.\n",
    "    for i, j in itertools.product(range(cm.shape[0]), range(cm.shape[1])):\n",
    "        plt.text(j, i, format(cm[i, j], fmt),\n",
    "                 horizontalalignment=\"center\",\n",
    "                 color=\"white\" if cm[i, j] > thresh else \"black\")\n",
    "\n",
    "    plt.ylabel('True label')\n",
    "    plt.xlabel('Predicted label')\n",
    "    plt.tight_layout()"
   ]
  },
  {
   "cell_type": "markdown",
   "metadata": {},
   "source": [
    "# Make Datasets"
   ]
  },
  {
   "cell_type": "code",
   "execution_count": 35,
   "metadata": {},
   "outputs": [],
   "source": [
    "# Stores emails as dictionaries. file_name : email_Document\n",
    "training_set = dict()\n",
    "test_set = dict()\n",
    "# Define classes for dataset\n",
    "# ham = 0 for not spam, spam = 1 for is spam\n",
    "classes = [\"ham\", \"spam\"]\n",
    "\n",
    "# takes directories holding the data text files as paramters\n",
    "def makeDatasets(training_spam_dir, training_ham_dir, test_spam_dir, test_ham_dir):\n",
    "    makeDataSet(training_set, training_spam_dir, classes[1])\n",
    "    makeDataSet(training_set, training_ham_dir, classes[0])\n",
    "    makeDataSet(test_set, test_spam_dir, classes[1])\n",
    "    makeDataSet(test_set, test_ham_dir, classes[0])\n",
    "\n",
    "makeDatasets('train/spam', 'train/ham', 'test/spam', 'test/ham')"
   ]
  },
  {
   "cell_type": "markdown",
   "metadata": {},
   "source": [
    "<h2> Training and testing data </h2>"
   ]
  },
  {
   "cell_type": "code",
   "execution_count": 36,
   "metadata": {},
   "outputs": [],
   "source": [
    "# Set the stop words\n",
    "def setStopWords():\n",
    "    stops = []\n",
    "    with open('stopwords.txt', 'r') as txt:\n",
    "        stops = (txt.read().splitlines())\n",
    "        stops = set(stops)\n",
    "    return stops\n",
    "\n",
    "# Remove stop words from data set and store in dictionary\n",
    "def removeStopWords(stops, data_set):\n",
    "    filtered_data_set = copy.deepcopy(data_set)\n",
    "    for i in stops:\n",
    "        for j in filtered_data_set:\n",
    "            if i in filtered_data_set[j].getWordFreqs():\n",
    "                del filtered_data_set[j].getWordFreqs()[i]\n",
    "    return filtered_data_set"
   ]
  },
  {
   "cell_type": "code",
   "execution_count": 37,
   "metadata": {},
   "outputs": [
    {
     "name": "stdout",
     "output_type": "stream",
     "text": [
      "Accuracy 93.90951276102089\n",
      "Precision 83.87650085763293\n",
      "Recall: 97.8\n",
      "F1-score: 9030.470914127423\n"
     ]
    },
    {
     "data": {
      "image/png": "[encoded data removed]",
      "text/plain": [
       "<Figure size 432x288 with 2 Axes>"
      ]
     },
     "metadata": {
      "needs_background": "light"
     },
     "output_type": "display_data"
    }
   ],
   "source": [
    "# Set the stop words list\n",
    "stop_words = setStopWords()\n",
    "\n",
    "# Filtered sets without stop words\n",
    "filtered_training_set = dict()\n",
    "filtered_test_set = dict()\n",
    "\n",
    "# Set up data sets without stop words\n",
    "filtered_training_set = removeStopWords(stop_words, training_set)\n",
    "filtered_test_set = removeStopWords(stop_words, test_set)\n",
    "\n",
    "# Dictionary to store conditional probability and prior\n",
    "filtered_conditional_probability = dict()\n",
    "filtered_prior = dict()\n",
    "\n",
    "# Train using the training data\n",
    "trainMNB(filtered_training_set, filtered_prior, filtered_conditional_probability)\n",
    "\n",
    "# Creating Confusion matrix\n",
    "# Generating True Positive, False Positive, False Negative, True Negative\n",
    "tp = 0 #true positive\n",
    "tn =0 #true negetive\n",
    "fp =0 #false positive\n",
    "fn = 0 #false negetive\n",
    "\n",
    "for i in test_set:\n",
    "    test_set[i].setPredictedLabel(applyMultinomialNaiveBayes(test_set[i], prior, conditional_probability))\n",
    "    if test_set[i].getPredictedLabel() == test_set[i].getActualLabel() == \"spam\":\n",
    "        tp += 1\n",
    "    elif test_set[i].getPredictedLabel() == test_set[i].getActualLabel() == \"ham\":\n",
    "        tn += 1\n",
    "    elif test_set[i].getPredictedLabel() != test_set[i].getActualLabel() and test_set[i].getPredictedLabel() == \"spam\":\n",
    "        fp += 1\n",
    "    else: #test_set[i].getPredictedLabel() != test_set[i].getActualLabel() and test_set[i].getPredictedLabel() == \"ham\":\n",
    "        fn += 1\n",
    "\n",
    "# Computing performance metrics\n",
    "accuracy = (float(tp+tn) /float(tp+tn+fp+fn))*100   # (TP+TN)/(TP+TN+FP+FN)\n",
    "precision = (float(tp) /float(tp+fp))*100        # (TP)/(TP+FP)\n",
    "recall = ((tp) /float(tp+fn))*100               # (TP)/(TP+FN)\n",
    "f1_score = (2* float((precision*recall) /float(precision+recall)))*100               # 2*(P*R/P+R)\n",
    "\n",
    "# Printing performance metrics\n",
    "print (\"Accuracy\",  accuracy)\n",
    "print (\"Precision\", precision)\n",
    "print (\"Recall:\", recall)\n",
    "print (\"F1-score:\", f1_score)\n",
    "cm = np.array([true_negatives, false_positives, false_negatives, true_positives]).reshape(2,2)\n",
    "plot_confusion_matrix(cm, classes, normalize=False, title='Confusion matrix')"
   ]
  },
  {
   "cell_type": "code",
   "execution_count": null,
   "metadata": {},
   "outputs": [],
   "source": []
  }
 ],
 "metadata": {
  "kernelspec": {
   "display_name": "Python 3",
   "language": "python",
   "name": "python3"
  },
  "language_info": {
   "codemirror_mode": {
    "name": "ipython",
    "version": 3
   },
   "file_extension": ".py",
   "mimetype": "text/x-python",
   "name": "python",
   "nbconvert_exporter": "python",
   "pygments_lexer": "ipython3",
   "version": "3.7.6"
  }
 },
 "nbformat": 4,
 "nbformat_minor": 4
}
